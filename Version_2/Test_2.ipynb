{
 "cells": [
  {
   "cell_type": "markdown",
   "metadata": {},
   "source": [
    "## Import Libraries"
   ]
  },
  {
   "cell_type": "code",
   "execution_count": null,
   "metadata": {},
   "outputs": [],
   "source": [
    "import numpy as np\n",
    "from sklearn.datasets import load_iris\n",
    "from sklearn.linear_model import LogisticRegression\n",
    "from sklearn.model_selection import train_test_split"
   ]
  },
  {
   "cell_type": "markdown",
   "metadata": {},
   "source": [
    "## MLFlow examples"
   ]
  },
  {
   "cell_type": "code",
   "execution_count": null,
   "metadata": {},
   "outputs": [],
   "source": [
    "train_size = 0.8\n",
    "penalty = \"l2\"\n",
    "fit_intercept = False"
   ]
  },
  {
   "cell_type": "code",
   "execution_count": null,
   "metadata": {},
   "outputs": [],
   "source": [
    "lr = LogisticRegression(\n",
    "    penalty=penalty,\n",
    "    fit_intercept=fit_intercept,\n",
    ")"
   ]
  },
  {
   "cell_type": "code",
   "execution_count": null,
   "metadata": {},
   "outputs": [],
   "source": [
    "X,y = load_iris(return_X_y=True)\n",
    "X_train, X_test, y_train, y_test = train_test_split(X,y, train_size=train_size)"
   ]
  },
  {
   "cell_type": "code",
   "execution_count": null,
   "metadata": {},
   "outputs": [],
   "source": [
    "lr.fit(X_train, y_train)"
   ]
  },
  {
   "cell_type": "code",
   "execution_count": null,
   "metadata": {},
   "outputs": [],
   "source": [
    "pred = lr.predict(X_train)"
   ]
  },
  {
   "cell_type": "code",
   "execution_count": null,
   "metadata": {},
   "outputs": [],
   "source": [
    "accuracy_train = (pred == y_train).mean()\n",
    "accuracy_test = (lr.predict(X_test) == y_test).mean()"
   ]
  },
  {
   "cell_type": "code",
   "execution_count": null,
   "metadata": {},
   "outputs": [],
   "source": [
    "thresholds = np.array([0.4, 0.3, 0.8])"
   ]
  },
  {
   "cell_type": "markdown",
   "metadata": {},
   "source": [
    "## Logging To MLFlow"
   ]
  },
  {
   "cell_type": "code",
   "execution_count": null,
   "metadata": {},
   "outputs": [],
   "source": [
    "import mlflow\n",
    "from mlflow.models.signature import infer_signature"
   ]
  },
  {
   "cell_type": "code",
   "execution_count": null,
   "metadata": {},
   "outputs": [],
   "source": [
    "mlflow.set_tracking_uri(uri=\"http://127.0.0.1:5000\")\n",
    "mlflow.set_experiment(\"ML_Experiment\")"
   ]
  },
  {
   "cell_type": "code",
   "execution_count": null,
   "metadata": {},
   "outputs": [],
   "source": [
    "with mlflow.start_run(run_name=\"SecondRun\") as run:\n",
    "\n",
    "    # === Logging Params ===\n",
    "    mlflow.log_params({\n",
    "        \"train_size\": train_size,\n",
    "        \"penalty\": penalty,\n",
    "        \"fit_intercept\": fit_intercept,\n",
    "    })\n",
    "    \n",
    "    # === Logging Datasets ===\n",
    "    mlflow.log_input(\n",
    "        mlflow.data.from_numpy(X_train, name=\"X_train\"),\n",
    "        context=\"train\"\n",
    "    )\n",
    "    mlflow.log_input(\n",
    "        mlflow.data.from_numpy(y_train, name=\"y_train\"),\n",
    "        context=\"train\"\n",
    "    )\n",
    "    mlflow.log_input(\n",
    "        mlflow.data.from_numpy(pred, name=\"pred\"),\n",
    "        context=\"train_predict\"\n",
    "    )\n",
    "    mlflow.log_input(\n",
    "        mlflow.data.from_numpy(X_test, name=\"X_test\"),\n",
    "        context=\"test\"\n",
    "    )\n",
    "    mlflow.log_input(\n",
    "        mlflow.data.from_numpy(y_test, name=\"y_test\"),\n",
    "        context=\"test\"\n",
    "    )\n",
    "\n",
    "    # === Logging Metrics ===\n",
    "    mlflow.log_metrics({\n",
    "        \"accuracy_train\":accuracy_train,\n",
    "        \"accuracy_test\": accuracy_test,\n",
    "    })\n",
    "\n",
    "    # === Logging Model ===\n",
    "    input_example = X_test[:1]\n",
    "    signature = infer_signature(input_example, lr.predict(input_example))\n",
    "\n",
    "    mlflow.sklearn.log_model(\n",
    "        sk_model=lr,\n",
    "        artifact_path=\"Logistic Regression v2\",\n",
    "        signature=signature,\n",
    "        input_example=input_example\n",
    "    )"
   ]
  },
  {
   "cell_type": "code",
   "execution_count": null,
   "metadata": {},
   "outputs": [],
   "source": []
  }
 ],
 "metadata": {
  "kernelspec": {
   "display_name": "my_env",
   "language": "python",
   "name": "python3"
  },
  "language_info": {
   "codemirror_mode": {
    "name": "ipython",
    "version": 3
   },
   "file_extension": ".py",
   "mimetype": "text/x-python",
   "name": "python",
   "nbconvert_exporter": "python",
   "pygments_lexer": "ipython3",
   "version": "3.12.5"
  }
 },
 "nbformat": 4,
 "nbformat_minor": 2
}
