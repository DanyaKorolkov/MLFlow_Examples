{
 "cells": [
  {
   "cell_type": "markdown",
   "metadata": {},
   "source": [
    "> Не забываем в CLI переключаться в нужный environment!"
   ]
  },
  {
   "cell_type": "markdown",
   "metadata": {},
   "source": [
    "## Import Libraries"
   ]
  },
  {
   "cell_type": "code",
   "execution_count": null,
   "metadata": {},
   "outputs": [],
   "source": [
    "import numpy as np\n",
    "import pandas as pd\n",
    "from sklearn.datasets import load_iris\n",
    "from sklearn.linear_model import LogisticRegression\n",
    "from sklearn.model_selection import train_test_split"
   ]
  },
  {
   "cell_type": "code",
   "execution_count": null,
   "metadata": {},
   "outputs": [],
   "source": [
    "import mlflow\n",
    "from mlflow.models.signature import infer_signature"
   ]
  },
  {
   "cell_type": "code",
   "execution_count": null,
   "metadata": {},
   "outputs": [],
   "source": [
    "mlflow.set_tracking_uri(uri=\"http://127.0.0.1:5000\")\n",
    "mlflow.set_experiment(\"ML_Experiment\")"
   ]
  },
  {
   "cell_type": "markdown",
   "metadata": {},
   "source": [
    "## MLFlow examples"
   ]
  },
  {
   "cell_type": "markdown",
   "metadata": {},
   "source": [
    "> Неодопустимо перезаписывание param в рамках одного run"
   ]
  },
  {
   "cell_type": "code",
   "execution_count": null,
   "metadata": {},
   "outputs": [],
   "source": [
    "# Логирование 1 параметра эксперимента\n",
    "train_size = 0.8\n",
    "mlflow.log_param(\"train_size\", train_size)"
   ]
  },
  {
   "cell_type": "code",
   "execution_count": null,
   "metadata": {},
   "outputs": [],
   "source": [
    "# Логирование сразу нескольких параметров\n",
    "penalty = \"l2\"\n",
    "fit_intercept = False\n",
    "\n",
    "mlflow.log_params({\n",
    "    \"penalty\": penalty,\n",
    "    \"fit_intercept\": fit_intercept,\n",
    "})"
   ]
  },
  {
   "cell_type": "code",
   "execution_count": null,
   "metadata": {},
   "outputs": [],
   "source": [
    "lr = LogisticRegression(\n",
    "    penalty=penalty,\n",
    "    fit_intercept=fit_intercept,\n",
    ")"
   ]
  },
  {
   "cell_type": "code",
   "execution_count": null,
   "metadata": {},
   "outputs": [],
   "source": [
    "X,y = load_iris(return_X_y=True)\n",
    "X_train, X_test, y_train, y_test = train_test_split(X,y, train_size=train_size)"
   ]
  },
  {
   "cell_type": "code",
   "execution_count": null,
   "metadata": {},
   "outputs": [],
   "source": [
    "# Logging datasets\n",
    "\n",
    "mlflow.log_input(\n",
    "    mlflow.data.from_numpy(X_train, name=\"X_train\"),\n",
    "    context=\"train\"\n",
    ")\n",
    "mlflow.log_input(\n",
    "    mlflow.data.from_numpy(y_train, name=\"y_train\"),\n",
    "    context=\"train\"\n",
    ")"
   ]
  },
  {
   "cell_type": "code",
   "execution_count": null,
   "metadata": {},
   "outputs": [],
   "source": [
    "# Or save localy first\n",
    "pd.DataFrame(X_train).to_parquet(\"X_train_1.parquet\")\n",
    "mlflow.log_artifact(local_path=\"X_train_1.parquet\", artifact_path=\"X_train_1\")"
   ]
  },
  {
   "cell_type": "code",
   "execution_count": null,
   "metadata": {},
   "outputs": [],
   "source": [
    "lr.fit(X_train, y_train)"
   ]
  },
  {
   "cell_type": "code",
   "execution_count": null,
   "metadata": {},
   "outputs": [],
   "source": [
    "pred = lr.predict(X_train)"
   ]
  },
  {
   "cell_type": "code",
   "execution_count": null,
   "metadata": {},
   "outputs": [],
   "source": [
    "mlflow.log_input(\n",
    "    mlflow.data.from_numpy(pred, name=\"pred\"),\n",
    "    context=\"train_predict\"\n",
    ")"
   ]
  },
  {
   "cell_type": "code",
   "execution_count": null,
   "metadata": {},
   "outputs": [],
   "source": [
    "accuracy_train = (pred == y_train).mean()\n",
    "accuracy_test = (lr.predict(X_test) == y_test).mean()"
   ]
  },
  {
   "cell_type": "code",
   "execution_count": null,
   "metadata": {},
   "outputs": [],
   "source": [
    "mlflow.log_metrics({\n",
    "    \"accuracy_train\":accuracy_train,\n",
    "    \"accuracy_test\": accuracy_test,\n",
    "})"
   ]
  },
  {
   "cell_type": "code",
   "execution_count": null,
   "metadata": {},
   "outputs": [],
   "source": [
    "mlflow.log_input(\n",
    "    mlflow.data.from_numpy(X_test, name=\"X_test\"),\n",
    "    context=\"test\"\n",
    ")\n",
    "mlflow.log_input(\n",
    "    mlflow.data.from_numpy(y_test, name=\"y_test\"),\n",
    "    context=\"test\"\n",
    ")"
   ]
  },
  {
   "cell_type": "code",
   "execution_count": null,
   "metadata": {},
   "outputs": [],
   "source": [
    "input_example = X_test[:1]\n",
    "signature = infer_signature(input_example, lr.predict(input_example))\n",
    "\n",
    "mlflow.sklearn.log_model(\n",
    "    sk_model=lr,\n",
    "    artifact_path=\"Logistic Regression v1\",\n",
    "    signature=signature,\n",
    "    input_example=input_example\n",
    ")"
   ]
  },
  {
   "cell_type": "markdown",
   "metadata": {},
   "source": [
    "## Previous Runs"
   ]
  },
  {
   "cell_type": "code",
   "execution_count": null,
   "metadata": {},
   "outputs": [],
   "source": [
    "mlflow.search_runs()"
   ]
  },
  {
   "cell_type": "code",
   "execution_count": null,
   "metadata": {},
   "outputs": [],
   "source": [
    "mlflow.last_active_run().info"
   ]
  },
  {
   "cell_type": "code",
   "execution_count": null,
   "metadata": {},
   "outputs": [],
   "source": [
    "mlflow.active_run().info"
   ]
  },
  {
   "cell_type": "markdown",
   "metadata": {},
   "source": [
    "## Load Artefacts From MLFlow"
   ]
  },
  {
   "cell_type": "markdown",
   "metadata": {},
   "source": [
    "### Model"
   ]
  },
  {
   "cell_type": "code",
   "execution_count": null,
   "metadata": {},
   "outputs": [],
   "source": [
    "# Берём из сервиса или из run\n",
    "\n",
    "# ../experiment_id/run_id/artifacts\n",
    "uri = mlflow.last_active_run().info.artifact_uri\n",
    "uri += \"/Logistic Regression v1\"\n",
    "\n",
    "lr_load = mlflow.sklearn.load_model(\n",
    "    model_uri=uri\n",
    ")"
   ]
  },
  {
   "cell_type": "code",
   "execution_count": null,
   "metadata": {},
   "outputs": [],
   "source": [
    "lr_load.coef_"
   ]
  },
  {
   "cell_type": "code",
   "execution_count": null,
   "metadata": {},
   "outputs": [],
   "source": [
    "lr.coef_"
   ]
  },
  {
   "cell_type": "markdown",
   "metadata": {},
   "source": [
    "### Dataset\n",
    "\n",
    "> Если сохраняли как артефакт, то можно вовсе через ui скачать"
   ]
  },
  {
   "cell_type": "code",
   "execution_count": null,
   "metadata": {},
   "outputs": [],
   "source": [
    "uri = mlflow.last_active_run().info.artifact_uri"
   ]
  },
  {
   "cell_type": "code",
   "execution_count": null,
   "metadata": {},
   "outputs": [],
   "source": [
    "# Как артефакт\n",
    "\n",
    "artifact = mlflow.artifacts.download_artifacts(f\"{uri}/X_train_1/X_train_1.parquet\")\n",
    "pd.read_parquet(artifact)"
   ]
  },
  {
   "cell_type": "code",
   "execution_count": null,
   "metadata": {},
   "outputs": [],
   "source": [
    "# Как mlflow.data.dataset - тут я не понял как скачивать!\n",
    "\n",
    "run = mlflow.get_run(mlflow.last_active_run().info.run_id)\n",
    "\n",
    "for i, d in enumerate(run.inputs.dataset_inputs):\n",
    "    print(i, d.dataset.name)"
   ]
  },
  {
   "cell_type": "code",
   "execution_count": null,
   "metadata": {},
   "outputs": [],
   "source": [
    "# dataset_info = run.inputs.dataset_inputs[0].dataset\n",
    "# d = mlflow.data.get_source(dataset_info)\n",
    "# d.load()"
   ]
  },
  {
   "cell_type": "code",
   "execution_count": null,
   "metadata": {},
   "outputs": [],
   "source": [
    "mlflow.end_run()"
   ]
  },
  {
   "cell_type": "code",
   "execution_count": null,
   "metadata": {},
   "outputs": [],
   "source": []
  }
 ],
 "metadata": {
  "kernelspec": {
   "display_name": "my_env",
   "language": "python",
   "name": "python3"
  },
  "language_info": {
   "codemirror_mode": {
    "name": "ipython",
    "version": 3
   },
   "file_extension": ".py",
   "mimetype": "text/x-python",
   "name": "python",
   "nbconvert_exporter": "python",
   "pygments_lexer": "ipython3",
   "version": "3.12.5"
  }
 },
 "nbformat": 4,
 "nbformat_minor": 2
}
